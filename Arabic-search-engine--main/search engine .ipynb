{
 "cells": [
  {
   "cell_type": "code",
   "execution_count": 1,
   "id": "79c180a8-d8c4-44b9-ad08-1aae3f956af2",
   "metadata": {},
   "outputs": [
    {
     "name": "stdout",
     "output_type": "stream",
     "text": [
      "Documents have been indexed and TF-IDF matrix is ready.\n"
     ]
    },
    {
     "name": "stdin",
     "output_type": "stream",
     "text": [
      "Enter your search query (or type 'exit' to quit):  كره القدم\n"
     ]
    },
    {
     "name": "stdout",
     "output_type": "stream",
     "text": [
      "Search Results:\n",
      "Document ID: d5271, Title: مدير كرة كرة الخليج السابق: المركز الثالث أو الرابع لا يشرفان الكرة البحرينية, Similarity Score: 0.488\n",
      "Document ID: d4521, Title: البحرين تشارك في دورة ألعاب التضامن الإسلامي الأولى بجدة, Similarity Score: 0.403\n",
      "Document ID: d5362, Title: مجلس النواب يطالب باستحداث أندية جديدة, Similarity Score: 0.356\n",
      "Document ID: d5377, Title: ألعاب الرياضة المصاحبة.. فوضى في الصالات, Similarity Score: 0.336\n",
      "Document ID: d4916, Title: المحرق والأهلي.. مباراة «القمة», Similarity Score: 0.331\n",
      "Evaluation - Precision: 1.000, Recall: 1.000, F1-Score: 1.000\n"
     ]
    },
    {
     "name": "stdin",
     "output_type": "stream",
     "text": [
      "Enter your search query (or type 'exit' to quit):  السباحه\n"
     ]
    },
    {
     "name": "stdout",
     "output_type": "stream",
     "text": [
      "Search Results:\n",
      "Document ID: d4900, Title: نادي الرجبي يشيد بالتعاون مع اتحاد السباحة, Similarity Score: 0.645\n",
      "Document ID: d4594, Title: إيقاف حوض سباحة على كف عفريت, Similarity Score: 0.405\n",
      "Document ID: d4812, Title: ميداليات ذهبية للمملكة في بطولة مجلس التعاون الثالثة للمجرى القصير بالكويت, Similarity Score: 0.379\n",
      "Document ID: d5506, Title: الاتحاد الرياضي للأمن العام يشارك في اجتماعات الجمعية العمومية والمكتب التنفيذي, Similarity Score: 0.251\n",
      "Document ID: d3995, Title: بحريني يطلق سراح فلبيني استحم عاريا في البحر, Similarity Score: 0.220\n",
      "Evaluation - Precision: 1.000, Recall: 1.000, F1-Score: 1.000\n"
     ]
    },
    {
     "name": "stdin",
     "output_type": "stream",
     "text": [
      "Enter your search query (or type 'exit' to quit):  exit\n"
     ]
    }
   ],
   "source": [
    "import pandas as pd\n",
    "from sklearn.feature_extraction.text import TfidfVectorizer\n",
    "from sklearn.metrics.pairwise import cosine_similarity\n",
    "from sklearn.metrics import precision_recall_fscore_support\n",
    "from nltk.corpus import stopwords\n",
    "from nltk.stem.isri import ISRIStemmer\n",
    "from nltk.tokenize import word_tokenize\n",
    "import re\n",
    "\n",
    "class ArabicTextSearchEngine:\n",
    "    def __init__(self):\n",
    "        self.stop_words = set(stopwords.words('arabic'))\n",
    "        self.stemmer = ISRIStemmer()\n",
    "        self.load_data()\n",
    "\n",
    "    def load_data(self):\n",
    "        self.data = pd.read_csv('data.csv')\n",
    "        self.setup_documents()\n",
    "\n",
    "    def normalize_text(self, text):\n",
    "        text = text.lower()\n",
    "        text = re.sub(r'[^\\w\\s]', '', text)\n",
    "        text = re.sub(r'[إأآا]', 'ا', text)\n",
    "        text = re.sub(r'[ى]', 'ي', text)\n",
    "        text = re.sub(r'[ؤئ]', 'ء', text)\n",
    "        return text\n",
    "\n",
    "    def tokenize_text(self, text):\n",
    "        return word_tokenize(text)\n",
    "\n",
    "    def remove_stopwords_and_stem(self, words):\n",
    "        return [self.stemmer.stem(word) for word in words if word not in self.stop_words and len(word) > 1]\n",
    "\n",
    "    def process_text(self, text):\n",
    "        text = self.normalize_text(text)\n",
    "        words = self.tokenize_text(text)\n",
    "        return ' '.join(self.remove_stopwords_and_stem(words))\n",
    "\n",
    "    def setup_documents(self):\n",
    "        self.doc_ids = self.data['docno'].tolist()\n",
    "        self.titles = self.data['titles'].tolist()\n",
    "        processed_docs = [self.process_text(doc) for doc in self.data['content']]\n",
    "        self.vectorizer = TfidfVectorizer()\n",
    "        self.tfidf_matrix = self.vectorizer.fit_transform(processed_docs)\n",
    "        print(\"Documents have been indexed and TF-IDF matrix is ready.\")\n",
    "\n",
    "    def search(self, query):\n",
    "        processed_query = self.process_text(query)\n",
    "        query_vector = self.vectorizer.transform([processed_query])\n",
    "        cos_similarities = cosine_similarity(query_vector, self.tfidf_matrix).flatten()\n",
    "        sorted_results = sorted(zip(self.doc_ids, self.titles, cos_similarities), key=lambda x: x[2], reverse=True)[:5]\n",
    "        print(\"Search Results:\")\n",
    "        for doc_id, title, score in sorted_results:\n",
    "            print(f\"Document ID: {doc_id}, Title: {title}, Similarity Score: {score:.3f}\")\n",
    "        return sorted_results\n",
    "\n",
    "    def evaluate_search(self, predicted_docs, actual_docs):\n",
    "        y_pred = [1 if doc in predicted_docs else 0 for doc in self.doc_ids]\n",
    "        y_true = [1 if doc in actual_docs else 0 for doc in self.doc_ids]\n",
    "        precision, recall, f1_score, _ = precision_recall_fscore_support(y_true, y_pred, average='binary', zero_division=0)\n",
    "        print(f\"Evaluation - Precision: {precision:.3f}, Recall: {recall:.3f}, F1-Score: {f1_score:.3f}\")\n",
    "\n",
    "# Example usage\n",
    "engine = ArabicTextSearchEngine()\n",
    "\n",
    "while True:\n",
    "    query = input(\"Enter your search query (or type 'exit' to quit): \")\n",
    "    if query.lower() == 'exit':\n",
    "        break\n",
    "    results = engine.search(query)\n",
    "\n",
    "    # Evaluate (optional)\n",
    "    actual_docs = [doc_id for doc_id, _, _ in results]  # Assuming all returned docs are relevant for example\n",
    "    predicted_docs = [doc_id for doc_id, _, _ in results]\n",
    "    engine.evaluate_search(predicted_docs, actual_docs)\n"
   ]
  },
  {
   "cell_type": "code",
   "execution_count": null,
   "id": "2a829114-5996-4829-b15c-55269156d00e",
   "metadata": {},
   "outputs": [],
   "source": []
  }
 ],
 "metadata": {
  "kernelspec": {
   "display_name": "Python 3 (ipykernel)",
   "language": "python",
   "name": "python3"
  },
  "language_info": {
   "codemirror_mode": {
    "name": "ipython",
    "version": 3
   },
   "file_extension": ".py",
   "mimetype": "text/x-python",
   "name": "python",
   "nbconvert_exporter": "python",
   "pygments_lexer": "ipython3",
   "version": "3.8.18"
  }
 },
 "nbformat": 4,
 "nbformat_minor": 5
}
